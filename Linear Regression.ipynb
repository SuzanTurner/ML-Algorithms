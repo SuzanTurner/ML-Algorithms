{
 "cells": [
  {
   "cell_type": "code",
   "execution_count": 1,
   "id": "93c033bc-4c84-491f-a9cb-8f72180613e4",
   "metadata": {},
   "outputs": [],
   "source": [
    "import numpy\n",
    "import pandas\n",
    "import seaborn\n",
    "import matplotlib.pyplot as plt"
   ]
  },
  {
   "cell_type": "code",
   "execution_count": 2,
   "id": "6b87dbc4-87c1-4fd7-a264-3e72dc77b509",
   "metadata": {},
   "outputs": [
    {
     "name": "stdout",
     "output_type": "stream",
     "text": [
      "True\n"
     ]
    }
   ],
   "source": [
    "import os\n",
    "print(os.path.exists(r\"C:\\Users\\hp\\Downloads\\Companies.csv\"))"
   ]
  },
  {
   "cell_type": "code",
   "execution_count": 33,
   "id": "74efb5bd-b8f7-4b49-86df-7b3fe4f3fa7e",
   "metadata": {},
   "outputs": [],
   "source": [
    "df = pandas.read_csv(r\"C:\\Users\\hp\\Downloads\\Companies.csv\")"
   ]
  },
  {
   "cell_type": "code",
   "execution_count": 4,
   "id": "024fdf96-43bb-414e-b6fd-dc393cb072cd",
   "metadata": {},
   "outputs": [
    {
     "data": {
      "text/html": [
       "<div>\n",
       "<style scoped>\n",
       "    .dataframe tbody tr th:only-of-type {\n",
       "        vertical-align: middle;\n",
       "    }\n",
       "\n",
       "    .dataframe tbody tr th {\n",
       "        vertical-align: top;\n",
       "    }\n",
       "\n",
       "    .dataframe thead th {\n",
       "        text-align: right;\n",
       "    }\n",
       "</style>\n",
       "<table border=\"1\" class=\"dataframe\">\n",
       "  <thead>\n",
       "    <tr style=\"text-align: right;\">\n",
       "      <th></th>\n",
       "      <th>R&amp;D Spend</th>\n",
       "      <th>Administration</th>\n",
       "      <th>Marketing Spend</th>\n",
       "      <th>State</th>\n",
       "      <th>Profit</th>\n",
       "    </tr>\n",
       "  </thead>\n",
       "  <tbody>\n",
       "    <tr>\n",
       "      <th>0</th>\n",
       "      <td>165349.20</td>\n",
       "      <td>136897.80</td>\n",
       "      <td>471784.10</td>\n",
       "      <td>New York</td>\n",
       "      <td>192261.83</td>\n",
       "    </tr>\n",
       "    <tr>\n",
       "      <th>1</th>\n",
       "      <td>162597.70</td>\n",
       "      <td>151377.59</td>\n",
       "      <td>443898.53</td>\n",
       "      <td>California</td>\n",
       "      <td>191792.06</td>\n",
       "    </tr>\n",
       "    <tr>\n",
       "      <th>2</th>\n",
       "      <td>153441.51</td>\n",
       "      <td>101145.55</td>\n",
       "      <td>407934.54</td>\n",
       "      <td>Florida</td>\n",
       "      <td>191050.39</td>\n",
       "    </tr>\n",
       "    <tr>\n",
       "      <th>3</th>\n",
       "      <td>144372.41</td>\n",
       "      <td>118671.85</td>\n",
       "      <td>383199.62</td>\n",
       "      <td>New York</td>\n",
       "      <td>182901.99</td>\n",
       "    </tr>\n",
       "    <tr>\n",
       "      <th>4</th>\n",
       "      <td>142107.34</td>\n",
       "      <td>91391.77</td>\n",
       "      <td>366168.42</td>\n",
       "      <td>Florida</td>\n",
       "      <td>166187.94</td>\n",
       "    </tr>\n",
       "  </tbody>\n",
       "</table>\n",
       "</div>"
      ],
      "text/plain": [
       "   R&D Spend  Administration  Marketing Spend       State     Profit\n",
       "0  165349.20       136897.80        471784.10    New York  192261.83\n",
       "1  162597.70       151377.59        443898.53  California  191792.06\n",
       "2  153441.51       101145.55        407934.54     Florida  191050.39\n",
       "3  144372.41       118671.85        383199.62    New York  182901.99\n",
       "4  142107.34        91391.77        366168.42     Florida  166187.94"
      ]
     },
     "execution_count": 4,
     "metadata": {},
     "output_type": "execute_result"
    }
   ],
   "source": [
    "df.head()"
   ]
  },
  {
   "cell_type": "code",
   "execution_count": 5,
   "id": "cefa471c-feec-4a96-9a2a-34697457b874",
   "metadata": {},
   "outputs": [
    {
     "data": {
      "text/plain": [
       "R&D Spend          0\n",
       "Administration     0\n",
       "Marketing Spend    0\n",
       "State              0\n",
       "Profit             0\n",
       "dtype: int64"
      ]
     },
     "execution_count": 5,
     "metadata": {},
     "output_type": "execute_result"
    }
   ],
   "source": [
    "df.isnull().sum()"
   ]
  },
  {
   "cell_type": "code",
   "execution_count": 6,
   "id": "96922f01-2d40-4346-9544-ca2d148308d8",
   "metadata": {},
   "outputs": [
    {
     "data": {
      "text/plain": [
       "0      False\n",
       "1      False\n",
       "2      False\n",
       "3      False\n",
       "4      False\n",
       "       ...  \n",
       "995    False\n",
       "996    False\n",
       "997    False\n",
       "998    False\n",
       "999    False\n",
       "Length: 1000, dtype: bool"
      ]
     },
     "execution_count": 6,
     "metadata": {},
     "output_type": "execute_result"
    }
   ],
   "source": [
    "df.duplicated()"
   ]
  },
  {
   "cell_type": "code",
   "execution_count": 7,
   "id": "9c554324-fa97-4e82-b2c9-c0c51e106533",
   "metadata": {},
   "outputs": [
    {
     "data": {
      "text/plain": [
       "(1000, 5)"
      ]
     },
     "execution_count": 7,
     "metadata": {},
     "output_type": "execute_result"
    }
   ],
   "source": [
    "df.shape"
   ]
  },
  {
   "cell_type": "code",
   "execution_count": 8,
   "id": "5bffb526-5d34-475b-9526-1d2f405d4e96",
   "metadata": {},
   "outputs": [],
   "source": [
    "Y = df.Profit.values"
   ]
  },
  {
   "cell_type": "code",
   "execution_count": 9,
   "id": "e397841e-edbd-46eb-8568-ecf1c3563ffa",
   "metadata": {},
   "outputs": [
    {
     "data": {
      "text/plain": [
       "array([192261.83   , 191792.06   , 191050.39   , 182901.99   ,\n",
       "       166187.94   , 156991.12   , 156122.51   , 155752.6    ,\n",
       "       152211.77   , 149759.96   , 146121.95   , 144259.4    ,\n",
       "       141585.52   , 134307.35   , 132602.65   , 129917.04   ,\n",
       "       126992.93   , 125370.37   , 124266.9    , 122776.86   ,\n",
       "       118474.03   , 111313.02   , 110352.25   , 108733.99   ,\n",
       "       108552.04   , 107404.34   , 105733.54   , 105008.31   ,\n",
       "       103282.38   , 101004.64   ,  99937.59   ,  97483.56   ,\n",
       "        97427.84   ,  96778.92   ,  96712.8    ,  96479.51   ,\n",
       "        90708.19   ,  89949.14   ,  81229.06   ,  81005.76   ,\n",
       "        78239.91   ,  77798.83   ,  71498.49   ,  69758.98   ,\n",
       "        65200.33   ,  64926.08   ,  49490.75   ,  42559.73   ,\n",
       "        35673.41   ,  14681.4    , 123485.2464 ,  82155.48418,\n",
       "       125867.0108 , 104976.1696 ,  89803.10053,  75297.23305,\n",
       "       114284.5283 , 171985.0761 ,  72337.96774, 169566.5772 ,\n",
       "       158670.9451 , 114522.8756 ,  85842.60573, 101106.2297 ,\n",
       "        59328.81874, 157142.6178 ,  68669.64059, 177717.3712 ,\n",
       "        94409.4396 , 183945.1553 ,  82484.38635, 144515.3371 ,\n",
       "       105333.2634 , 122331.0988 , 168459.4156 ,  60947.70089,\n",
       "       162733.9549 , 181574.4968 ,  73577.54452,  84782.43014,\n",
       "       168870.3298 ,  72607.06952,  56788.15621,  67473.63267,\n",
       "        52731.98078, 140237.9002 , 166598.769  , 102990.7964 ,\n",
       "        78406.85364, 111764.3688 ,  63662.63887, 142575.2414 ,\n",
       "       115980.2967 , 132915.7689 , 155954.2985 , 167412.0544 ,\n",
       "        88710.46186, 164139.2642 , 131574.5314 , 169314.5613 ,\n",
       "        86636.24242, 177468.7724 , 157979.8234 ,  56944.49153,\n",
       "        98500.64098,  87218.86913, 178759.6067 , 101668.3534 ,\n",
       "       151782.7938 ,  68872.96194, 139016.2635 ,  69109.60065,\n",
       "        55091.53354, 136286.8026 , 122307.1786 , 154356.7737 ,\n",
       "       114806.5004 ,  55623.75707,  73896.1952 , 172901.7308 ,\n",
       "       129480.6633 , 115890.5961 , 169404.2619 , 161666.9449 ,\n",
       "        50116.99489,  86613.17655,  91640.68127, 138793.2935 ,\n",
       "       128986.8828 , 111461.9497 , 129804.4397 , 178847.5987 ,\n",
       "       101028.4891 , 136845.5092 ,  94579.44358, 148748.3508 ,\n",
       "        91139.21223, 173343.3994 , 175906.2735 , 112883.4905 ,\n",
       "       138079.1059 ,  78689.62408, 140832.487  , 182316.0217 ,\n",
       "       129232.9188 , 152520.9015 , 133849.5093 , 169431.5992 ,\n",
       "       109333.0556 , 121505.8533 , 108917.0157 , 169324.8128 ,\n",
       "       161423.4719 , 171478.4813 , 137670.7546 , 105582.7164 ,\n",
       "       141472.3512 , 169572.5573 , 126993.8211 , 119743.4502 ,\n",
       "       103155.6747 ,  86313.32028, 105674.9799 , 152268.8856 ,\n",
       "       101971.6268 , 166402.282  ,  84757.65569, 142289.0538 ,\n",
       "       155518.6099 , 177675.5109 , 111138.1732 , 142490.6665 ,\n",
       "        65814.59883,  88870.21435, 125271.5697 , 163462.6654 ,\n",
       "       154539.592  , 151150.6182 , 178296.5808 , 106401.1276 ,\n",
       "        76644.45054, 110228.3529 , 122570.3004 ,  54205.63339,\n",
       "        73850.06347, 117353.9972 ,  63814.70273,  67199.40514,\n",
       "       181391.6784 , 181550.5766 , 156935.8793 , 181579.6225 ,\n",
       "        94376.97653,  76229.26494,  89583.54765, 176839.1597 ,\n",
       "       113578.8837 ,  74477.11333,  88648.95289,  94066.01447,\n",
       "       146874.0356 , 163549.8031 , 138872.7426 , 121482.7874 ,\n",
       "        89594.65343,  94297.52743, 159509.0049 ,  81169.63193,\n",
       "       117700.8395 ,  61393.64099, 169661.4036 , 171651.9025 ,\n",
       "       128265.0066 ,  75270.75002, 109658.5406 , 145976.1753 ,\n",
       "        53395.76517, 144038.6425 ,  54300.45973,  58223.36571,\n",
       "        66007.66868, 121491.3304 ,  89915.86699, 182098.1774 ,\n",
       "        68160.48294, 136575.5531 , 111422.6523 , 141814.0678 ,\n",
       "        85830.64565, 121927.8732 ,  96616.9285 ,  90687.2921 ,\n",
       "       155424.6379 , 122954.7315 , 113188.4725 , 163883.8311 ,\n",
       "        68984.01982,  99306.23774,  52325.33808,  58694.93455,\n",
       "        80229.05713, 104723.2993 ,  51256.61958,  51336.06868,\n",
       "        53225.76119,  64672.41127, 173263.9503 , 155791.1289 ,\n",
       "       118334.7237 ,  90164.46578, 140872.6387 , 116492.8715 ,\n",
       "        58918.75889,  64349.48913, 164375.9029 , 169059.9825 ,\n",
       "       109663.6663 ,  68719.18949, 102833.6068 , 158338.6258 ,\n",
       "       168686.6571 , 170883.8945 ,  92949.45565, 110023.323  ,\n",
       "       126506.0207 , 130602.3478 , 117289.0711 , 117645.3106 ,\n",
       "       148944.8378 , 114970.5243 , 170174.8327 ,  92758.09438,\n",
       "       142762.3312 , 168802.8408 ,  56138.89476, 160646.0668 ,\n",
       "       162479.376  , 146925.293  ,  61291.12602, 112642.5803 ,\n",
       "       116273.3187 , 109285.2152 , 103264.1697 ,  60111.34964,\n",
       "        55227.36587,  73733.02555,  98129.02423,  82589.46419,\n",
       "       168876.3098 , 104996.6726 , 147736.0156 , 181512.1335 ,\n",
       "        95260.31381,  91977.27207, 126295.865  , 174329.2516 ,\n",
       "       118265.5261 , 153825.4044 ,  94093.35179, 167934.0264 ,\n",
       "       103243.6667 , 160935.6715 , 107019.6345 , 173336.5651 ,\n",
       "        73154.67029, 145877.9318 , 164180.2702 , 184632.0056 ,\n",
       "       151992.0952 , 100693.6069 , 180684.3252 ,  83391.64379,\n",
       "       121140.2166 ,  66656.07583, 123814.1486 , 150292.0553 ,\n",
       "       159514.1307 ,  87019.81924,  96793.76682, 105154.7165 ,\n",
       "       175999.3913 , 169169.3318 , 182911.4628 , 134979.7368 ,\n",
       "        70244.95388, 169623.8148 , 135817.7966 ,  50070.86316,\n",
       "        60368.49134, 182028.1255 ,  92289.08842, 184555.1194 ,\n",
       "       135591.4094 ,  73790.26307, 160667.424  , 121248.7116 ,\n",
       "       135506.8346 , 154351.6479 , 116529.6061 , 142869.1176 ,\n",
       "       131062.8109 , 165941.819  , 172384.0302 , 142712.7823 ,\n",
       "        91790.18226, 100435.6109 , 144750.2672 , 137468.2876 ,\n",
       "       161824.1346 ,  92920.40974, 108421.5267 , 141046.0598 ,\n",
       "       156147.3684 , 182641.5067 , 150475.728  ,  79794.22283,\n",
       "        55832.20416, 152920.7099 , 145711.345  , 128195.809  ,\n",
       "        80504.99325, 172615.5432 , 102213.3913 ,  91240.87291,\n",
       "       158160.0789 ,  54244.9308 , 171176.9165 , 167377.0285 ,\n",
       "       154029.5801 , 105503.2673 ,  65204.63479,  65181.56893,\n",
       "       169235.1122 , 144807.5047 , 171235.8626 ,  92485.57543,\n",
       "       161936.0467 , 107910.6604 , 183965.6583 , 152134.7618 ,\n",
       "        51913.56964,  94320.5933 , 103906.5968 , 136632.7906 ,\n",
       "        72949.64036,  51690.5996 , 106212.3292 , 149849.5324 ,\n",
       "        64574.16776, 120375.6258 , 154765.9792 ,  86983.939  ,\n",
       "       171557.9304 , 157690.2186 ,  67839.26938, 175747.3753 ,\n",
       "        53177.92087, 123648.4161 ,  59636.36364, 105740.7603 ,\n",
       "       165029.4358 , 180633.922  , 126997.2382 , 171687.7827 ,\n",
       "       125636.3521 ,  52225.38599,  59981.49735,  88971.02073,\n",
       "        63306.39937,  58666.74293,  77017.77587, 161008.2863 ,\n",
       "        77847.29279,  97478.0542 ,  85976.72948, 149792.2949 ,\n",
       "       128937.3339 ,  80082.11902, 154238.8815 , 174414.6808 ,\n",
       "       156182.3943 ,  71376.03566, 145680.5905 , 185028.3968 ,\n",
       "        68921.65655, 172937.611  , 150707.2409 , 185352.1732 ,\n",
       "       106018.405  , 131659.9605 , 114839.8177 ,  97372.12207,\n",
       "        78308.61013,  85769.13667, 126436.8231 ,  67226.74247,\n",
       "       174996.4532 ,  59225.44949, 102740.489  , 141180.1836 ,\n",
       "       157325.4362 ,  90312.25819, 162440.0786 , 126117.3181 ,\n",
       "        58784.63514, 165530.0505 ,  90550.60548, 161123.6156 ,\n",
       "        87309.42402,  72735.21323,  97238.85262,  68648.28331,\n",
       "       157529.6118 ,  85529.93509,  80539.1649 , 163525.0287 ,\n",
       "       139080.3354 , 165186.6254 ,  68347.57275,  90544.62544,\n",
       "        88027.88306,  64997.04199, 184979.7022 ,  70555.91594,\n",
       "        91209.26412, 120790.8114 , 157615.041  , 145240.6305 ,\n",
       "        65085.034  ,  75968.70607, 181243.886  , 102274.046  ,\n",
       "       167257.4277 ,  95537.9585 , 158961.4042 ,  80106.89347,\n",
       "       127075.833  , 184887.4387 ,  67282.27141,  77242.4545 ,\n",
       "       164713.348  ,  84909.71956, 160000.2225 ,  73872.27504,\n",
       "       101119.044  , 107252.8561 , 117043.8895 , 155881.6838 ,\n",
       "       141832.0079 ,  81963.26862, 142494.938  , 143333.8521 ,\n",
       "        72478.92582, 134122.8826 ,  57893.60924, 174050.7527 ,\n",
       "        66273.3533 , 139130.7386 ,  99032.8645 , 141073.3972 ,\n",
       "       156340.4382 ,  88072.30621, 126393.2542 ,  65664.24355,\n",
       "       134894.3077 , 110963.8978 , 103171.0519 ,  84808.91317,\n",
       "       139555.3214 ,  68705.52083,  96214.55727,  98444.25774,\n",
       "       145073.1894 , 138588.2636 , 138736.9103 ,  77629.44849,\n",
       "       135641.8126 ,  91657.76709, 169403.4076 , 133617.1421 ,\n",
       "        70509.78421, 124269.4859 ,  54119.34996, 174320.7087 ,\n",
       "       151804.1511 , 180524.5727 ,  54971.93275,  69995.5008 ,\n",
       "        77837.89559, 100556.066  , 184099.7821 , 151774.2509 ,\n",
       "       153976.614  , 183093.4268 ,  91843.14832,  59342.48741,\n",
       "       115751.3466 , 108629.9738 , 182876.4368 , 143061.3332 ,\n",
       "       176623.024  , 154901.8116 , 181946.9678 ,  99906.80457,\n",
       "        77132.25091, 175771.2955 ,  78153.1291 ,  56852.22806,\n",
       "       169564.8687 ,  75445.02546, 148158.0355 , 144203.5207 ,\n",
       "       142226.6905 , 175396.2616 , 118130.5481 , 108776.0576 ,\n",
       "       107382.7084 , 120617.3903 , 150393.716  , 106070.5168 ,\n",
       "       160842.5538 , 146499.0017 ,  97712.98433, 125981.4858 ,\n",
       "        71885.19331, 130070.1243 , 104151.7784 , 106169.6146 ,\n",
       "       147194.3948 , 141527.0259 , 113981.2549 , 184581.6024 ,\n",
       "        54060.40386,  76376.20305,  99301.96628,  98464.76074,\n",
       "       174007.1838 , 128337.6214 , 176344.525  , 107669.7503 ,\n",
       "        90482.26217,  79710.50227,  84583.38025, 166679.9267 ,\n",
       "        74052.53052, 129889.8688 ,  84552.62576, 131051.7051 ,\n",
       "       116205.8296 ,  65471.1737 , 128060.831  , 127773.7891 ,\n",
       "       108896.5127 , 176833.1797 ,  54991.58145, 181929.0277 ,\n",
       "       102873.7585 ,  57541.6412 ,  65513.03398, 162182.9369 ,\n",
       "        51671.80519, 138022.7227 , 180257.1795 ,  60408.64304,\n",
       "       178552.8682 , 182059.7343 , 114403.2748 ,  85101.93511,\n",
       "       157086.2346 , 150024.6621 , 127248.3999 , 154190.1869 ,\n",
       "       126058.372  , 138213.2296 , 101352.2656 , 100958.4372 ,\n",
       "        63373.88839, 179522.4889 , 184865.2271 , 102619.1797 ,\n",
       "       175826.8244 , 165119.1364 , 134268.9664 ,  61306.50327,\n",
       "       165495.0246 ,  77667.8916 , 154051.7917 , 111643.0594 ,\n",
       "       106517.3112 ,  68575.66854, 155915.0011 , 124695.7773 ,\n",
       "       172769.3156 , 185068.5485 , 157591.1208 , 106865.8621 ,\n",
       "       104824.1057 , 120990.7156 ,  56620.7151 , 159613.2285 ,\n",
       "       175705.515  ,  98776.57709, 165987.9507 ,  52609.81711,\n",
       "       117842.6519 ,  80045.38449,  80066.74177, 137719.4492 ,\n",
       "       149477.9157 , 180783.423  , 103404.2734 ,  88302.96488,\n",
       "       100992.6089 , 141082.7944 , 142586.3472 , 175166.4572 ,\n",
       "        56991.47755, 109105.8141 , 167373.6113 , 153627.2089 ,\n",
       "       126846.883  ,  76545.35274,  65255.03798, 171780.0462 ,\n",
       "       118944.6878 , 168285.1402 ,  95226.99644,  59264.74689,\n",
       "       163470.354  , 162747.6235 ,  56775.34184,  79808.74578,\n",
       "        83356.61784,  74502.74207, 145965.9238 ,  59784.15604,\n",
       "       133834.1321 ,  71717.75221,  91441.63138, 164779.9827 ,\n",
       "        98397.27172,  92502.66126, 136315.8485 ,  79796.7857 ,\n",
       "       144805.7962 ,  94294.11026, 100589.3834 ,  81824.87341,\n",
       "        64950.05596, 113472.9515 , 116685.0871 , 114373.3746 ,\n",
       "        99277.19183, 109998.5485 , 124765.8292 , 163155.1205 ,\n",
       "       144820.3191 , 139915.8323 ,  50468.96294,  92362.55748,\n",
       "       158565.8673 ,  79167.17296, 103903.1796 ,  98368.22581,\n",
       "       182202.4009 ,  70232.13951,  53483.75718, 120345.7256 ,\n",
       "       143415.8641 ,  56789.0105 , 110848.5685 , 144287.2413 ,\n",
       "        90108.93684,  85570.94108,  98808.18587,  61960.03617,\n",
       "       127725.0945 ,  70282.5427 , 159431.2644 ,  50994.35213,\n",
       "        83632.55396,  88481.51178, 168402.1781 ,  87716.921  ,\n",
       "       173519.3834 , 177513.1956 , 181258.409  , 119914.3085 ,\n",
       "       152243.2568 , 142852.0318 , 176432.517  , 164424.5975 ,\n",
       "        57258.01646, 177442.2894 , 149190.8738 , 130689.4855 ,\n",
       "       107994.381  , 111257.774  , 123690.2763 , 163138.0347 ,\n",
       "        91370.72519, 166902.0425 ,  55641.69719,  58179.79685,\n",
       "       156545.4682 , 104862.5488 , 181441.2273 , 164884.2062 ,\n",
       "       132897.8287 ,  81580.54608, 127455.1384 , 116045.2229 ,\n",
       "       161630.2104 , 140594.1397 ,  51276.26828, 121248.7116 ,\n",
       "        65868.41919,  60243.7648 ,  52276.64348, 162399.9269 ,\n",
       "        68210.88613, 119961.2945 ,  72657.47271, 182979.8061 ,\n",
       "       112054.8279 ,  74208.01155, 164330.6254 , 174254.9283 ,\n",
       "       119482.037  , 117637.622  , 160252.2384 , 152175.7678 ,\n",
       "       106433.5906 , 120445.6777 , 141408.2794 ,  52086.1365 ,\n",
       "       133019.1381 , 172966.6569 , 163028.6854 , 109278.3809 ,\n",
       "       144130.0517 , 140289.1577 , 141273.3013 ,  57992.70704,\n",
       "       125971.2343 , 120723.3224 , 128977.4856 ,  65219.15775,\n",
       "       100404.0021 , 177911.2954 , 137842.4672 , 127909.6214 ,\n",
       "       154173.101  , 170343.1281 ,  59766.21593,  90712.92084,\n",
       "        93280.9207 ,  87045.44798,  79170.59013, 181485.6505 ,\n",
       "       174421.5151 ,  63924.90632, 140964.9022 ,  55195.75709,\n",
       "       140870.0758 , 169745.1241 ,  83444.60985, 185032.6682 ,\n",
       "       168246.6971 , 156488.2307 , 152900.2069 , 167391.5514 ,\n",
       "       163226.881  , 130427.2181 ,  87219.72342, 125467.2024 ,\n",
       "       173897.8345 , 142927.2094 ,  76356.55435, 158208.7735 ,\n",
       "        67733.33725,  97340.51329, 170464.4375 , 120738.6997 ,\n",
       "       149669.2769 ,  79513.16096, 168145.8907 , 170465.2918 ,\n",
       "       125667.9609 ,  63742.94226, 159389.4041 ,  72870.19126,\n",
       "       124577.0308 , 177000.6208 , 166579.1203 , 143338.9779 ,\n",
       "       169673.3637 ,  74324.19518, 184669.5944 , 136050.1639 ,\n",
       "       184516.6762 ,  95065.53537, 170547.3037 , 146196.5825 ,\n",
       "       109344.1613 , 150516.734  ,  55771.54948,  88082.55771,\n",
       "       109877.2392 , 185272.7241 ,  88592.56966,  86750.71746,\n",
       "        99201.1599 ,  97955.60308, 164695.4079 , 173531.3435 ,\n",
       "       110363.331  , 144184.7263 , 102771.2435 ,  87654.55773,\n",
       "       181102.0736 ,  64966.2875 , 180257.1795 , 140589.8682 ,\n",
       "        71772.42685,  77627.73991,  51286.51978,  80859.52417,\n",
       "        86101.45602, 132471.5373 ,  50428.81124,  99424.12995,\n",
       "        97446.44542, 138908.6228 , 148134.1153 , 159173.2684 ,\n",
       "        82229.80752, 100759.3874 , 113444.7599 ,  62531.55709,\n",
       "        87112.08271, 128995.4258 ,  53649.48971, 104159.467  ,\n",
       "        63978.72668, 167407.783  , 116603.0751 , 165584.7252 ,\n",
       "        88737.79919, 152894.2269 ,  64769.80049,  51324.1086 ,\n",
       "        57067.50948,  66357.07385,  71235.93187, 166415.9507 ,\n",
       "        57463.90068,  80804.84952,  70902.75824, 159247.5918 ,\n",
       "       112487.9536 , 116260.5043 , 121916.7675 , 161488.398  ,\n",
       "       161456.7893 , 176018.1857 , 118219.3944 , 134983.154  ,\n",
       "       180378.4888 , 139722.7625 ,  84378.35032, 178978.3053 ,\n",
       "        97882.98831,  54932.63535,  95148.40164, 106235.395  ,\n",
       "       103813.479  , 134723.4494 , 174364.2776 ,  82522.82946,\n",
       "        65743.69265,  96581.04826,  70153.5447 ,  93606.40571,\n",
       "       151891.2888 ,  79299.58812,  83553.10486,  60650.40749,\n",
       "       123228.959  ,  52481.67341, 161467.0408 , 107682.5646 ,\n",
       "       140522.3792 , 102118.5649 ,  57143.54142, 159227.0888 ,\n",
       "       163673.6754 , 157493.7316 ,  91623.59544, 157949.9232 ,\n",
       "        94974.98049, 148975.5923 , 158516.3184 , 110682.8359 ,\n",
       "       146690.3629 ,  58605.23395, 120412.3603 , 161783.1286 ,\n",
       "        76487.26093,  95178.30183, 104231.2275 ,  58963.18204,\n",
       "        76017.40068,  59803.80475, 129642.9786 ,  51003.74933,\n",
       "        77362.05529, 185502.5285 , 180753.5228 , 172495.0881 ,\n",
       "       140251.5689 ,  63093.68082, 171416.9724 , 111814.772  ,\n",
       "       123671.4819 ,  92903.32391, 105457.9899 ,  74425.00156,\n",
       "       173861.9543 ,  62223.15791,  60869.96038, 110395.794  ,\n",
       "       161076.6296 , 107704.7762 , 141344.2075 , 168760.9805 ,\n",
       "        97599.36358,  89558.7732 ,  99322.46927,  60065.21791,\n",
       "       102489.3274 ,  94400.89669, 154569.4922 ,  90808.60147,\n",
       "       138855.6568 , 103378.6447 , 134808.0242 ,  84305.73556,\n",
       "        83178.92524,  86221.9111 , 165330.1463 , 161035.6236 ,\n",
       "       138841.9881 ,  89012.02672, 132077.709  ,  95279.96251,\n",
       "       164336.6055 , 413956.48   , 333962.19   , 476485.43   ])"
      ]
     },
     "execution_count": 9,
     "metadata": {},
     "output_type": "execute_result"
    }
   ],
   "source": [
    "Y"
   ]
  },
  {
   "cell_type": "code",
   "execution_count": 29,
   "id": "7d092d3f-9f4a-43f2-802c-ca2913373145",
   "metadata": {},
   "outputs": [],
   "source": [
    "X = df.iloc[:,:-1].values"
   ]
  },
  {
   "cell_type": "code",
   "execution_count": 30,
   "id": "f5cfe034-ea36-4557-bc51-7379f5fd03c3",
   "metadata": {},
   "outputs": [
    {
     "data": {
      "text/plain": [
       "array([[165349.2 , 136897.8 , 471784.1 ],\n",
       "       [162597.7 , 151377.59, 443898.53],\n",
       "       [153441.51, 101145.55, 407934.54],\n",
       "       ...,\n",
       "       [100275.47, 241926.31, 227142.82],\n",
       "       [128456.23, 321652.14, 281692.32],\n",
       "       [161181.72, 270939.86, 295442.17]])"
      ]
     },
     "execution_count": 30,
     "metadata": {},
     "output_type": "execute_result"
    }
   ],
   "source": [
    "X"
   ]
  },
  {
   "cell_type": "markdown",
   "id": "c0e0c46c-c58f-4f82-9390-28f989c63014",
   "metadata": {},
   "source": [
    "##### This data is pointless, there fore we graph is. We use a heatmap"
   ]
  },
  {
   "cell_type": "code",
   "execution_count": 34,
   "id": "5cce5387-bf31-4df5-a145-caf14885d7f6",
   "metadata": {},
   "outputs": [],
   "source": [
    "df.drop(columns = [\"State\"], inplace = True)"
   ]
  },
  {
   "cell_type": "code",
   "execution_count": 35,
   "id": "91d24b62-4e32-404d-aed6-219b2bbda9a7",
   "metadata": {},
   "outputs": [
    {
     "data": {
      "text/plain": [
       "<Axes: >"
      ]
     },
     "execution_count": 35,
     "metadata": {},
     "output_type": "execute_result"
    },
    {
     "data": {
      "image/png": "[encoded data removed]",
      "text/plain": [
       "<Figure size 400x300 with 2 Axes>"
      ]
     },
     "metadata": {},
     "output_type": "display_data"
    }
   ],
   "source": [
    "plt.figure(figsize = (4,3))\n",
    "seaborn.heatmap(df.corr(), cmap = \"coolwarm\")"
   ]
  },
  {
   "cell_type": "code",
   "execution_count": 36,
   "id": "d02c6b36-9778-4951-a8a0-29cedfcb13a2",
   "metadata": {},
   "outputs": [],
   "source": [
    "from sklearn.preprocessing import LabelEncoder"
   ]
  },
  {
   "cell_type": "code",
   "execution_count": 52,
   "id": "349d97a0-45d7-4cdf-b756-d65a2947ba6b",
   "metadata": {},
   "outputs": [],
   "source": [
    "# Encoding categorical data\n",
    "df = pandas.read_csv(r\"C:\\Users\\hp\\Downloads\\Companies.csv\")\n",
    "le = LabelEncoder()\n",
    "df[\"State\"] = le.fit_transform(df[\"State\"])"
   ]
  },
  {
   "cell_type": "code",
   "execution_count": 53,
   "id": "c2780f5d-cd67-4657-9f27-92394773e6c4",
   "metadata": {},
   "outputs": [
    {
     "data": {
      "text/html": [
       "<div>\n",
       "<style scoped>\n",
       "    .dataframe tbody tr th:only-of-type {\n",
       "        vertical-align: middle;\n",
       "    }\n",
       "\n",
       "    .dataframe tbody tr th {\n",
       "        vertical-align: top;\n",
       "    }\n",
       "\n",
       "    .dataframe thead th {\n",
       "        text-align: right;\n",
       "    }\n",
       "</style>\n",
       "<table border=\"1\" class=\"dataframe\">\n",
       "  <thead>\n",
       "    <tr style=\"text-align: right;\">\n",
       "      <th></th>\n",
       "      <th>R&amp;D Spend</th>\n",
       "      <th>Administration</th>\n",
       "      <th>Marketing Spend</th>\n",
       "      <th>State</th>\n",
       "      <th>Profit</th>\n",
       "    </tr>\n",
       "  </thead>\n",
       "  <tbody>\n",
       "    <tr>\n",
       "      <th>0</th>\n",
       "      <td>165349.20</td>\n",
       "      <td>136897.80</td>\n",
       "      <td>471784.10</td>\n",
       "      <td>2</td>\n",
       "      <td>192261.83</td>\n",
       "    </tr>\n",
       "    <tr>\n",
       "      <th>1</th>\n",
       "      <td>162597.70</td>\n",
       "      <td>151377.59</td>\n",
       "      <td>443898.53</td>\n",
       "      <td>0</td>\n",
       "      <td>191792.06</td>\n",
       "    </tr>\n",
       "    <tr>\n",
       "      <th>2</th>\n",
       "      <td>153441.51</td>\n",
       "      <td>101145.55</td>\n",
       "      <td>407934.54</td>\n",
       "      <td>1</td>\n",
       "      <td>191050.39</td>\n",
       "    </tr>\n",
       "    <tr>\n",
       "      <th>3</th>\n",
       "      <td>144372.41</td>\n",
       "      <td>118671.85</td>\n",
       "      <td>383199.62</td>\n",
       "      <td>2</td>\n",
       "      <td>182901.99</td>\n",
       "    </tr>\n",
       "    <tr>\n",
       "      <th>4</th>\n",
       "      <td>142107.34</td>\n",
       "      <td>91391.77</td>\n",
       "      <td>366168.42</td>\n",
       "      <td>1</td>\n",
       "      <td>166187.94</td>\n",
       "    </tr>\n",
       "  </tbody>\n",
       "</table>\n",
       "</div>"
      ],
      "text/plain": [
       "   R&D Spend  Administration  Marketing Spend  State     Profit\n",
       "0  165349.20       136897.80        471784.10      2  192261.83\n",
       "1  162597.70       151377.59        443898.53      0  191792.06\n",
       "2  153441.51       101145.55        407934.54      1  191050.39\n",
       "3  144372.41       118671.85        383199.62      2  182901.99\n",
       "4  142107.34        91391.77        366168.42      1  166187.94"
      ]
     },
     "execution_count": 53,
     "metadata": {},
     "output_type": "execute_result"
    }
   ],
   "source": [
    "df.head()"
   ]
  },
  {
   "cell_type": "code",
   "execution_count": 54,
   "id": "cb737a48-ed32-44c9-a7fe-dc0e8a5f4d5c",
   "metadata": {},
   "outputs": [],
   "source": [
    "from sklearn.model_selection import train_test_split"
   ]
  },
  {
   "cell_type": "code",
   "execution_count": 55,
   "id": "eb9dd36a-4746-400d-965a-2ec664022b12",
   "metadata": {},
   "outputs": [],
   "source": [
    "X_train, X_test, Y_train, Y_test = train_test_split(X,Y,test_size = 0.2, random_state = 35)"
   ]
  },
  {
   "cell_type": "code",
   "execution_count": 56,
   "id": "a91eb9cf-904a-454d-a595-4874f6a3310d",
   "metadata": {},
   "outputs": [],
   "source": [
    "from sklearn.linear_model import LinearRegression"
   ]
  },
  {
   "cell_type": "code",
   "execution_count": 57,
   "id": "d14f8878-a5cd-4876-bc77-bac740f4e024",
   "metadata": {},
   "outputs": [
    {
     "data": {
      "text/html": [
       "<style>#sk-container-id-1 {\n",
       "  /* Definition of color scheme common for light and dark mode */\n",
       "  --sklearn-color-text: black;\n",
       "  --sklearn-color-line: gray;\n",
       "  /* Definition of color scheme for unfitted estimators */\n",
       "  --sklearn-color-unfitted-level-0: #fff5e6;\n",
       "  --sklearn-color-unfitted-level-1: #f6e4d2;\n",
       "  --sklearn-color-unfitted-level-2: #ffe0b3;\n",
       "  --sklearn-color-unfitted-level-3: chocolate;\n",
       "  /* Definition of color scheme for fitted estimators */\n",
       "  --sklearn-color-fitted-level-0: #f0f8ff;\n",
       "  --sklearn-color-fitted-level-1: #d4ebff;\n",
       "  --sklearn-color-fitted-level-2: #b3dbfd;\n",
       "  --sklearn-color-fitted-level-3: cornflowerblue;\n",
       "\n",
       "  /* Specific color for light theme */\n",
       "  --sklearn-color-text-on-default-background: var(--sg-text-color, var(--theme-code-foreground, var(--jp-content-font-color1, black)));\n",
       "  --sklearn-color-background: var(--sg-background-color, var(--theme-background, var(--jp-layout-color0, white)));\n",
       "  --sklearn-color-border-box: var(--sg-text-color, var(--theme-code-foreground, var(--jp-content-font-color1, black)));\n",
       "  --sklearn-color-icon: #696969;\n",
       "\n",
       "  @media (prefers-color-scheme: dark) {\n",
       "    /* Redefinition of color scheme for dark theme */\n",
       "    --sklearn-color-text-on-default-background: var(--sg-text-color, var(--theme-code-foreground, var(--jp-content-font-color1, white)));\n",
       "    --sklearn-color-background: var(--sg-background-color, var(--theme-background, var(--jp-layout-color0, #111)));\n",
       "    --sklearn-color-border-box: var(--sg-text-color, var(--theme-code-foreground, var(--jp-content-font-color1, white)));\n",
       "    --sklearn-color-icon: #878787;\n",
       "  }\n",
       "}\n",
       "\n",
       "#sk-container-id-1 {\n",
       "  color: var(--sklearn-color-text);\n",
       "}\n",
       "\n",
       "#sk-container-id-1 pre {\n",
       "  padding: 0;\n",
       "}\n",
       "\n",
       "#sk-container-id-1 input.sk-hidden--visually {\n",
       "  border: 0;\n",
       "  clip: rect(1px 1px 1px 1px);\n",
       "  clip: rect(1px, 1px, 1px, 1px);\n",
       "  height: 1px;\n",
       "  margin: -1px;\n",
       "  overflow: hidden;\n",
       "  padding: 0;\n",
       "  position: absolute;\n",
       "  width: 1px;\n",
       "}\n",
       "\n",
       "#sk-container-id-1 div.sk-dashed-wrapped {\n",
       "  border: 1px dashed var(--sklearn-color-line);\n",
       "  margin: 0 0.4em 0.5em 0.4em;\n",
       "  box-sizing: border-box;\n",
       "  padding-bottom: 0.4em;\n",
       "  background-color: var(--sklearn-color-background);\n",
       "}\n",
       "\n",
       "#sk-container-id-1 div.sk-container {\n",
       "  /* jupyter's `normalize.less` sets `[hidden] { display: none; }`\n",
       "     but bootstrap.min.css set `[hidden] { display: none !important; }`\n",
       "     so we also need the `!important` here to be able to override the\n",
       "     default hidden behavior on the sphinx rendered scikit-learn.org.\n",
       "     See: https://github.com/scikit-learn/scikit-learn/issues/21755 */\n",
       "  display: inline-block !important;\n",
       "  position: relative;\n",
       "}\n",
       "\n",
       "#sk-container-id-1 div.sk-text-repr-fallback {\n",
       "  display: none;\n",
       "}\n",
       "\n",
       "div.sk-parallel-item,\n",
       "div.sk-serial,\n",
       "div.sk-item {\n",
       "  /* draw centered vertical line to link estimators */\n",
       "  background-image: linear-gradient(var(--sklearn-color-text-on-default-background), var(--sklearn-color-text-on-default-background));\n",
       "  background-size: 2px 100%;\n",
       "  background-repeat: no-repeat;\n",
       "  background-position: center center;\n",
       "}\n",
       "\n",
       "/* Parallel-specific style estimator block */\n",
       "\n",
       "#sk-container-id-1 div.sk-parallel-item::after {\n",
       "  content: \"\";\n",
       "  width: 100%;\n",
       "  border-bottom: 2px solid var(--sklearn-color-text-on-default-background);\n",
       "  flex-grow: 1;\n",
       "}\n",
       "\n",
       "#sk-container-id-1 div.sk-parallel {\n",
       "  display: flex;\n",
       "  align-items: stretch;\n",
       "  justify-content: center;\n",
       "  background-color: var(--sklearn-color-background);\n",
       "  position: relative;\n",
       "}\n",
       "\n",
       "#sk-container-id-1 div.sk-parallel-item {\n",
       "  display: flex;\n",
       "  flex-direction: column;\n",
       "}\n",
       "\n",
       "#sk-container-id-1 div.sk-parallel-item:first-child::after {\n",
       "  align-self: flex-end;\n",
       "  width: 50%;\n",
       "}\n",
       "\n",
       "#sk-container-id-1 div.sk-parallel-item:last-child::after {\n",
       "  align-self: flex-start;\n",
       "  width: 50%;\n",
       "}\n",
       "\n",
       "#sk-container-id-1 div.sk-parallel-item:only-child::after {\n",
       "  width: 0;\n",
       "}\n",
       "\n",
       "/* Serial-specific style estimator block */\n",
       "\n",
       "#sk-container-id-1 div.sk-serial {\n",
       "  display: flex;\n",
       "  flex-direction: column;\n",
       "  align-items: center;\n",
       "  background-color: var(--sklearn-color-background);\n",
       "  padding-right: 1em;\n",
       "  padding-left: 1em;\n",
       "}\n",
       "\n",
       "\n",
       "/* Toggleable style: style used for estimator/Pipeline/ColumnTransformer box that is\n",
       "clickable and can be expanded/collapsed.\n",
       "- Pipeline and ColumnTransformer use this feature and define the default style\n",
       "- Estimators will overwrite some part of the style using the `sk-estimator` class\n",
       "*/\n",
       "\n",
       "/* Pipeline and ColumnTransformer style (default) */\n",
       "\n",
       "#sk-container-id-1 div.sk-toggleable {\n",
       "  /* Default theme specific background. It is overwritten whether we have a\n",
       "  specific estimator or a Pipeline/ColumnTransformer */\n",
       "  background-color: var(--sklearn-color-background);\n",
       "}\n",
       "\n",
       "/* Toggleable label */\n",
       "#sk-container-id-1 label.sk-toggleable__label {\n",
       "  cursor: pointer;\n",
       "  display: block;\n",
       "  width: 100%;\n",
       "  margin-bottom: 0;\n",
       "  padding: 0.5em;\n",
       "  box-sizing: border-box;\n",
       "  text-align: center;\n",
       "}\n",
       "\n",
       "#sk-container-id-1 label.sk-toggleable__label-arrow:before {\n",
       "  /* Arrow on the left of the label */\n",
       "  content: \"▸\";\n",
       "  float: left;\n",
       "  margin-right: 0.25em;\n",
       "  color: var(--sklearn-color-icon);\n",
       "}\n",
       "\n",
       "#sk-container-id-1 label.sk-toggleable__label-arrow:hover:before {\n",
       "  color: var(--sklearn-color-text);\n",
       "}\n",
       "\n",
       "/* Toggleable content - dropdown */\n",
       "\n",
       "#sk-container-id-1 div.sk-toggleable__content {\n",
       "  max-height: 0;\n",
       "  max-width: 0;\n",
       "  overflow: hidden;\n",
       "  text-align: left;\n",
       "  /* unfitted */\n",
       "  background-color: var(--sklearn-color-unfitted-level-0);\n",
       "}\n",
       "\n",
       "#sk-container-id-1 div.sk-toggleable__content.fitted {\n",
       "  /* fitted */\n",
       "  background-color: var(--sklearn-color-fitted-level-0);\n",
       "}\n",
       "\n",
       "#sk-container-id-1 div.sk-toggleable__content pre {\n",
       "  margin: 0.2em;\n",
       "  border-radius: 0.25em;\n",
       "  color: var(--sklearn-color-text);\n",
       "  /* unfitted */\n",
       "  background-color: var(--sklearn-color-unfitted-level-0);\n",
       "}\n",
       "\n",
       "#sk-container-id-1 div.sk-toggleable__content.fitted pre {\n",
       "  /* unfitted */\n",
       "  background-color: var(--sklearn-color-fitted-level-0);\n",
       "}\n",
       "\n",
       "#sk-container-id-1 input.sk-toggleable__control:checked~div.sk-toggleable__content {\n",
       "  /* Expand drop-down */\n",
       "  max-height: 200px;\n",
       "  max-width: 100%;\n",
       "  overflow: auto;\n",
       "}\n",
       "\n",
       "#sk-container-id-1 input.sk-toggleable__control:checked~label.sk-toggleable__label-arrow:before {\n",
       "  content: \"▾\";\n",
       "}\n",
       "\n",
       "/* Pipeline/ColumnTransformer-specific style */\n",
       "\n",
       "#sk-container-id-1 div.sk-label input.sk-toggleable__control:checked~label.sk-toggleable__label {\n",
       "  color: var(--sklearn-color-text);\n",
       "  background-color: var(--sklearn-color-unfitted-level-2);\n",
       "}\n",
       "\n",
       "#sk-container-id-1 div.sk-label.fitted input.sk-toggleable__control:checked~label.sk-toggleable__label {\n",
       "  background-color: var(--sklearn-color-fitted-level-2);\n",
       "}\n",
       "\n",
       "/* Estimator-specific style */\n",
       "\n",
       "/* Colorize estimator box */\n",
       "#sk-container-id-1 div.sk-estimator input.sk-toggleable__control:checked~label.sk-toggleable__label {\n",
       "  /* unfitted */\n",
       "  background-color: var(--sklearn-color-unfitted-level-2);\n",
       "}\n",
       "\n",
       "#sk-container-id-1 div.sk-estimator.fitted input.sk-toggleable__control:checked~label.sk-toggleable__label {\n",
       "  /* fitted */\n",
       "  background-color: var(--sklearn-color-fitted-level-2);\n",
       "}\n",
       "\n",
       "#sk-container-id-1 div.sk-label label.sk-toggleable__label,\n",
       "#sk-container-id-1 div.sk-label label {\n",
       "  /* The background is the default theme color */\n",
       "  color: var(--sklearn-color-text-on-default-background);\n",
       "}\n",
       "\n",
       "/* On hover, darken the color of the background */\n",
       "#sk-container-id-1 div.sk-label:hover label.sk-toggleable__label {\n",
       "  color: var(--sklearn-color-text);\n",
       "  background-color: var(--sklearn-color-unfitted-level-2);\n",
       "}\n",
       "\n",
       "/* Label box, darken color on hover, fitted */\n",
       "#sk-container-id-1 div.sk-label.fitted:hover label.sk-toggleable__label.fitted {\n",
       "  color: var(--sklearn-color-text);\n",
       "  background-color: var(--sklearn-color-fitted-level-2);\n",
       "}\n",
       "\n",
       "/* Estimator label */\n",
       "\n",
       "#sk-container-id-1 div.sk-label label {\n",
       "  font-family: monospace;\n",
       "  font-weight: bold;\n",
       "  display: inline-block;\n",
       "  line-height: 1.2em;\n",
       "}\n",
       "\n",
       "#sk-container-id-1 div.sk-label-container {\n",
       "  text-align: center;\n",
       "}\n",
       "\n",
       "/* Estimator-specific */\n",
       "#sk-container-id-1 div.sk-estimator {\n",
       "  font-family: monospace;\n",
       "  border: 1px dotted var(--sklearn-color-border-box);\n",
       "  border-radius: 0.25em;\n",
       "  box-sizing: border-box;\n",
       "  margin-bottom: 0.5em;\n",
       "  /* unfitted */\n",
       "  background-color: var(--sklearn-color-unfitted-level-0);\n",
       "}\n",
       "\n",
       "#sk-container-id-1 div.sk-estimator.fitted {\n",
       "  /* fitted */\n",
       "  background-color: var(--sklearn-color-fitted-level-0);\n",
       "}\n",
       "\n",
       "/* on hover */\n",
       "#sk-container-id-1 div.sk-estimator:hover {\n",
       "  /* unfitted */\n",
       "  background-color: var(--sklearn-color-unfitted-level-2);\n",
       "}\n",
       "\n",
       "#sk-container-id-1 div.sk-estimator.fitted:hover {\n",
       "  /* fitted */\n",
       "  background-color: var(--sklearn-color-fitted-level-2);\n",
       "}\n",
       "\n",
       "/* Specification for estimator info (e.g. \"i\" and \"?\") */\n",
       "\n",
       "/* Common style for \"i\" and \"?\" */\n",
       "\n",
       ".sk-estimator-doc-link,\n",
       "a:link.sk-estimator-doc-link,\n",
       "a:visited.sk-estimator-doc-link {\n",
       "  float: right;\n",
       "  font-size: smaller;\n",
       "  line-height: 1em;\n",
       "  font-family: monospace;\n",
       "  background-color: var(--sklearn-color-background);\n",
       "  border-radius: 1em;\n",
       "  height: 1em;\n",
       "  width: 1em;\n",
       "  text-decoration: none !important;\n",
       "  margin-left: 1ex;\n",
       "  /* unfitted */\n",
       "  border: var(--sklearn-color-unfitted-level-1) 1pt solid;\n",
       "  color: var(--sklearn-color-unfitted-level-1);\n",
       "}\n",
       "\n",
       ".sk-estimator-doc-link.fitted,\n",
       "a:link.sk-estimator-doc-link.fitted,\n",
       "a:visited.sk-estimator-doc-link.fitted {\n",
       "  /* fitted */\n",
       "  border: var(--sklearn-color-fitted-level-1) 1pt solid;\n",
       "  color: var(--sklearn-color-fitted-level-1);\n",
       "}\n",
       "\n",
       "/* On hover */\n",
       "div.sk-estimator:hover .sk-estimator-doc-link:hover,\n",
       ".sk-estimator-doc-link:hover,\n",
       "div.sk-label-container:hover .sk-estimator-doc-link:hover,\n",
       ".sk-estimator-doc-link:hover {\n",
       "  /* unfitted */\n",
       "  background-color: var(--sklearn-color-unfitted-level-3);\n",
       "  color: var(--sklearn-color-background);\n",
       "  text-decoration: none;\n",
       "}\n",
       "\n",
       "div.sk-estimator.fitted:hover .sk-estimator-doc-link.fitted:hover,\n",
       ".sk-estimator-doc-link.fitted:hover,\n",
       "div.sk-label-container:hover .sk-estimator-doc-link.fitted:hover,\n",
       ".sk-estimator-doc-link.fitted:hover {\n",
       "  /* fitted */\n",
       "  background-color: var(--sklearn-color-fitted-level-3);\n",
       "  color: var(--sklearn-color-background);\n",
       "  text-decoration: none;\n",
       "}\n",
       "\n",
       "/* Span, style for the box shown on hovering the info icon */\n",
       ".sk-estimator-doc-link span {\n",
       "  display: none;\n",
       "  z-index: 9999;\n",
       "  position: relative;\n",
       "  font-weight: normal;\n",
       "  right: .2ex;\n",
       "  padding: .5ex;\n",
       "  margin: .5ex;\n",
       "  width: min-content;\n",
       "  min-width: 20ex;\n",
       "  max-width: 50ex;\n",
       "  color: var(--sklearn-color-text);\n",
       "  box-shadow: 2pt 2pt 4pt #999;\n",
       "  /* unfitted */\n",
       "  background: var(--sklearn-color-unfitted-level-0);\n",
       "  border: .5pt solid var(--sklearn-color-unfitted-level-3);\n",
       "}\n",
       "\n",
       ".sk-estimator-doc-link.fitted span {\n",
       "  /* fitted */\n",
       "  background: var(--sklearn-color-fitted-level-0);\n",
       "  border: var(--sklearn-color-fitted-level-3);\n",
       "}\n",
       "\n",
       ".sk-estimator-doc-link:hover span {\n",
       "  display: block;\n",
       "}\n",
       "\n",
       "/* \"?\"-specific style due to the `<a>` HTML tag */\n",
       "\n",
       "#sk-container-id-1 a.estimator_doc_link {\n",
       "  float: right;\n",
       "  font-size: 1rem;\n",
       "  line-height: 1em;\n",
       "  font-family: monospace;\n",
       "  background-color: var(--sklearn-color-background);\n",
       "  border-radius: 1rem;\n",
       "  height: 1rem;\n",
       "  width: 1rem;\n",
       "  text-decoration: none;\n",
       "  /* unfitted */\n",
       "  color: var(--sklearn-color-unfitted-level-1);\n",
       "  border: var(--sklearn-color-unfitted-level-1) 1pt solid;\n",
       "}\n",
       "\n",
       "#sk-container-id-1 a.estimator_doc_link.fitted {\n",
       "  /* fitted */\n",
       "  border: var(--sklearn-color-fitted-level-1) 1pt solid;\n",
       "  color: var(--sklearn-color-fitted-level-1);\n",
       "}\n",
       "\n",
       "/* On hover */\n",
       "#sk-container-id-1 a.estimator_doc_link:hover {\n",
       "  /* unfitted */\n",
       "  background-color: var(--sklearn-color-unfitted-level-3);\n",
       "  color: var(--sklearn-color-background);\n",
       "  text-decoration: none;\n",
       "}\n",
       "\n",
       "#sk-container-id-1 a.estimator_doc_link.fitted:hover {\n",
       "  /* fitted */\n",
       "  background-color: var(--sklearn-color-fitted-level-3);\n",
       "}\n",
       "</style><div id=\"sk-container-id-1\" class=\"sk-top-container\"><div class=\"sk-text-repr-fallback\"><pre>LinearRegression()</pre><b>In a Jupyter environment, please rerun this cell to show the HTML representation or trust the notebook. <br />On GitHub, the HTML representation is unable to render, please try loading this page with nbviewer.org.</b></div><div class=\"sk-container\" hidden><div class=\"sk-item\"><div class=\"sk-estimator fitted sk-toggleable\"><input class=\"sk-toggleable__control sk-hidden--visually\" id=\"sk-estimator-id-1\" type=\"checkbox\" checked><label for=\"sk-estimator-id-1\" class=\"sk-toggleable__label fitted sk-toggleable__label-arrow fitted\">&nbsp;&nbsp;LinearRegression<a class=\"sk-estimator-doc-link fitted\" rel=\"noreferrer\" target=\"_blank\" href=\"https://scikit-learn.org/1.5/modules/generated/sklearn.linear_model.LinearRegression.html\">?<span>Documentation for LinearRegression</span></a><span class=\"sk-estimator-doc-link fitted\">i<span>Fitted</span></span></label><div class=\"sk-toggleable__content fitted\"><pre>LinearRegression()</pre></div> </div></div></div></div>"
      ],
      "text/plain": [
       "LinearRegression()"
      ]
     },
     "execution_count": 57,
     "metadata": {},
     "output_type": "execute_result"
    }
   ],
   "source": [
    "model = LinearRegression()\n",
    "model.fit(X_train, Y_train)"
   ]
  },
  {
   "cell_type": "code",
   "execution_count": 58,
   "id": "ffb72d69-da3e-4903-b2c7-00ffb5f76412",
   "metadata": {},
   "outputs": [
    {
     "data": {
      "text/plain": [
       "array([124980.69018589, 180418.65335676,  56415.2463431 , 158652.72140226,\n",
       "       168940.08067152, 163777.00723812,  79297.40203331, 105564.43075052,\n",
       "       176770.02387422, 139549.34940632, 178555.1199865 , 179648.93305792,\n",
       "       113490.05029275, 144867.57370695, 108680.37581396, 182489.05445592,\n",
       "       130341.15002007, 169671.01328541, 181540.04878665, 100089.33175911,\n",
       "       116216.39449567, 135480.08895027, 122690.49218779, 142390.33276647,\n",
       "        53831.9857001 , 125878.84086156, 173738.5498979 , 123620.53495196,\n",
       "       126857.1528136 , 171998.27513156, 139404.54201084, 109933.64938188,\n",
       "        97761.20803154,  79167.24773217, 163142.61283851,  94429.77571178,\n",
       "       182864.86409016, 141826.6182277 ,  63601.31373533,  66154.40622215,\n",
       "       126387.39068339, 234816.38206126,  88820.21277662, 160230.94969824,\n",
       "       169602.91939175,  73680.94340094, 147800.78555136, 106674.62084726,\n",
       "       146571.64649331, 185809.28135513,  80086.94711867, 149566.91875187,\n",
       "        79796.47044629, 127572.01941242,  89648.5455536 , 141898.15996997,\n",
       "       134336.28285408,  78297.54137712,  98120.64064714,  73524.06870349,\n",
       "       167180.84317489, 141732.66581914, 132945.95937522,  55126.64463145,\n",
       "        72674.18721569,  51665.90827075, 144616.74660094, 185611.89504175,\n",
       "        93023.07529501, 163183.12445443,  89417.46296481,  53891.46013972,\n",
       "        99499.75878617,  87179.9241539 , 143630.67707694, 159044.90806183,\n",
       "        63472.68053005,  65387.27172236, 106759.0918403 ,  76347.81308284,\n",
       "       138365.03169421, 102477.79197652, 126049.50677862, 159274.18645702,\n",
       "       103082.88009337,  87086.83362009, 145334.74994403, 182012.39671591,\n",
       "        57058.26019208, 178793.01783506, 129430.07008694, 138739.11749156,\n",
       "       104380.11312581, 137359.1373837 ,  91899.95594749, 162520.2858216 ,\n",
       "        52888.4384453 , 162222.91345201,  68247.21798761, 149390.10936046,\n",
       "        90203.64064568, 137144.51217026, 109551.80609998, 134005.93249079,\n",
       "        67734.35844243, 166124.69764921,  62946.23267446,  64955.43540902,\n",
       "        80142.53150356, 165544.00231337, 171157.01309713,  61127.52064747,\n",
       "        54018.16667966,  97606.91913313,  86281.77339082,  89895.06293627,\n",
       "       128631.9054608 , 159673.2688138 ,  63228.95186229,  71702.77088013,\n",
       "       106408.27867807,  58508.05811056, 150470.3760967 , 154908.41568094,\n",
       "       179440.34140472, 122296.58152319, 169560.68385153, 178346.5283333 ,\n",
       "        49853.22989074, 104124.97620904, 185973.91353712, 150656.42209326,\n",
       "       143905.63877356, 152785.43567056, 132548.60094275, 140795.72736444,\n",
       "        63784.90891651, 130254.95510272,  88730.57009141, 101299.5079928 ,\n",
       "        97500.03746712,  76518.4789999 , 113883.96095735, 174361.73887696,\n",
       "       115288.07557508, 158290.70290689,  59607.04286681, 157028.80980487,\n",
       "       136556.66303422,  60781.01720926,  88792.63041815, 111748.05168285,\n",
       "       150421.97201257,  66540.5593148 ,  86374.00195581, 105384.28351202,\n",
       "       163904.5756528 , 153557.74185586, 174897.87105726,  68109.30620193,\n",
       "       150926.21202365, 172302.54311762, 165458.66935151,  56571.2590784 ,\n",
       "       114595.93065948, 156104.80060762, 177212.20364595, 102320.91736648,\n",
       "        92477.46161845,  68058.45120834, 125681.4546356 ,  96769.96682205,\n",
       "       138191.77997144, 170481.24520017, 102172.66211572, 170039.06542844,\n",
       "       154859.28452424, 170371.77773512, 176882.93919455, 158022.6368134 ,\n",
       "       124085.98735215, 104948.99935008,  52368.39655868, 156599.55929058,\n",
       "        95367.57604122, 111542.04592278, 113182.3345455 , 169677.04693306,\n",
       "        55619.66760875, 100949.55670532, 107934.79011239, 186300.59218948,\n",
       "        54074.19335741, 130092.04675762,  94714.21891132, 139613.99553211,\n",
       "       163493.42600073,  71647.60616318,  73738.69400434, 135390.44626505])"
      ]
     },
     "execution_count": 58,
     "metadata": {},
     "output_type": "execute_result"
    }
   ],
   "source": [
    "y_pred = model.predict(X_test)\n",
    "y_pred"
   ]
  },
  {
   "cell_type": "code",
   "execution_count": 64,
   "id": "c299e19f-77dc-43f6-99fe-0ff7df51794e",
   "metadata": {},
   "outputs": [
    {
     "name": "stdout",
     "output_type": "stream",
     "text": [
      "[0.60406291 0.87406821 0.06675271]\n"
     ]
    }
   ],
   "source": [
    "print(model.coef_)"
   ]
  },
  {
   "cell_type": "code",
   "execution_count": 65,
   "id": "d59a138d-4ca9-4a2f-a462-fbeebbe0022b",
   "metadata": {},
   "outputs": [
    {
     "data": {
      "text/plain": [
       "np.float64(-52378.80608021481)"
      ]
     },
     "execution_count": 65,
     "metadata": {},
     "output_type": "execute_result"
    }
   ],
   "source": [
    "model.intercept_"
   ]
  },
  {
   "cell_type": "markdown",
   "id": "eeebc21c-5282-4a44-8c87-c6cd360b7892",
   "metadata": {},
   "source": [
    "##### Evaluation of the model"
   ]
  },
  {
   "cell_type": "code",
   "execution_count": 69,
   "id": "3acc5e8b-d85f-4aa3-bc6a-b91938b021d0",
   "metadata": {},
   "outputs": [],
   "source": [
    "from sklearn.metrics import r2_score, mean_squared_error"
   ]
  },
  {
   "cell_type": "code",
   "execution_count": 70,
   "id": "5181beb2-0924-4038-ab62-34d4f73c174e",
   "metadata": {},
   "outputs": [
    {
     "data": {
      "text/plain": [
       "0.9028519645694488"
      ]
     },
     "execution_count": 70,
     "metadata": {},
     "output_type": "execute_result"
    }
   ],
   "source": [
    "r2_score(Y_test, y_pred)\n"
   ]
  },
  {
   "cell_type": "code",
   "execution_count": 73,
   "id": "7300aa92-2e74-4c69-9c35-c6552c6acff4",
   "metadata": {},
   "outputs": [
    {
     "name": "stdout",
     "output_type": "stream",
     "text": [
      "193119063.7508925\n"
     ]
    }
   ],
   "source": [
    "mse = mean_squared_error\n",
    "print(mse(Y_test, y_pred))"
   ]
  },
  {
   "cell_type": "markdown",
   "id": "5821c12b-2d00-475a-9d97-d9972969c92f",
   "metadata": {},
   "source": [
    "##### We plot a graph"
   ]
  },
  {
   "cell_type": "code",
   "execution_count": 88,
   "id": "db88725c-1d47-4f08-b1f9-acb7574c06b8",
   "metadata": {},
   "outputs": [
    {
     "data": {
      "image/png": "[encoded data removed]",
      "text/plain": [
       "<Figure size 300x200 with 1 Axes>"
      ]
     },
     "metadata": {},
     "output_type": "display_data"
    }
   ],
   "source": [
    "plt.figure(figsize = (3,2))\n",
    "plt.scatter(Y_test, y_pred, color='blue', label=\"Data Points\")\n",
    "plt.plot([Y_test.min(), Y_test.max()], [Y_test.min(), Y_test.max()], 'r--', lw=2)\n",
    "plt.xlabel(\"X Actual Values\")\n",
    "plt.ylabel(\"Y Predicted Values\")\n",
    "plt.title(\"Linear Regression Model\")\n",
    "plt.legend()\n",
    "plt.show()"
   ]
  },
  {
   "cell_type": "code",
   "execution_count": 80,
   "id": "a022cf21-5d24-4be0-ab53-1ce440b70963",
   "metadata": {},
   "outputs": [
    {
     "data": {
      "text/plain": [
       "array([[165349.2 , 136897.8 , 471784.1 ],\n",
       "       [162597.7 , 151377.59, 443898.53],\n",
       "       [153441.51, 101145.55, 407934.54],\n",
       "       ...,\n",
       "       [100275.47, 241926.31, 227142.82],\n",
       "       [128456.23, 321652.14, 281692.32],\n",
       "       [161181.72, 270939.86, 295442.17]])"
      ]
     },
     "execution_count": 80,
     "metadata": {},
     "output_type": "execute_result"
    }
   ],
   "source": [
    "X"
   ]
  },
  {
   "cell_type": "code",
   "execution_count": 83,
   "id": "47fb113d-8563-4f6e-8baf-2e7f3e728be9",
   "metadata": {},
   "outputs": [
    {
     "data": {
      "text/plain": [
       "(1000, 3)"
      ]
     },
     "execution_count": 83,
     "metadata": {},
     "output_type": "execute_result"
    }
   ],
   "source": [
    "X.shape"
   ]
  },
  {
   "cell_type": "code",
   "execution_count": 84,
   "id": "3a524bc9-ec90-470e-ae89-bb854f9d7a5d",
   "metadata": {},
   "outputs": [
    {
     "data": {
      "text/plain": [
       "(1000,)"
      ]
     },
     "execution_count": 84,
     "metadata": {},
     "output_type": "execute_result"
    }
   ],
   "source": [
    "Y.shape"
   ]
  },
  {
   "cell_type": "code",
   "execution_count": null,
   "id": "21a0d55b-98b0-44b0-86ae-7538c3fb8c08",
   "metadata": {},
   "outputs": [],
   "source": []
  }
 ],
 "metadata": {
  "kernelspec": {
   "display_name": "Python 3 (ipykernel)",
   "language": "python",
   "name": "python3"
  },
  "language_info": {
   "codemirror_mode": {
    "name": "ipython",
    "version": 3
   },
   "file_extension": ".py",
   "mimetype": "text/x-python",
   "name": "python",
   "nbconvert_exporter": "python",
   "pygments_lexer": "ipython3",
   "version": "3.12.6"
  }
 },
 "nbformat": 4,
 "nbformat_minor": 5
}
